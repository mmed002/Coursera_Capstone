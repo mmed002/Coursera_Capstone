{
 "cells": [
  {
   "cell_type": "markdown",
   "metadata": {},
   "source": [
    "# Capstone Project - The Choice of the right business location"
   ]
  },
  {
   "cell_type": "markdown",
   "metadata": {},
   "source": [
    "## Introduction"
   ]
  },
  {
   "cell_type": "markdown",
   "metadata": {},
   "source": [
    "For location based businesses especially in the retail sector, the choice of where it operate is critically important. After all **The three most important things in retailing are – location, location and location\".** And if they get the location wrong, it can have a serious and often disastrous effect on the business as the the former boss of Marks and Spencer (Lord Sieff) said describing the main success factors in his business.\n",
    "\n",
    "In this notebook we'll describe the problem and the chalanges facing businesses when making location decisions, we'll describe also how can we benefit from data in such situations, we'll have a look next to an example of a data-driven choices in business location and marketing."
   ]
  },
  {
   "cell_type": "markdown",
   "metadata": {},
   "source": [
    "### Business problem"
   ]
  },
  {
   "cell_type": "markdown",
   "metadata": {},
   "source": [
    "Location decisions are usually pretty important – to both large and small businesses. The location decision has a direct effect on an **operation's costs** as well as its **ability to serve customers** (and therefore its revenues).\n",
    "\n",
    "Also, location decisions, once made, are difficult and costly to undo. The costs of moving an operation are often significant and run the risk of inconveniencing customers and staff. It is always best to get the location decision right first time.\n",
    "\n",
    "The main aim of choosing a business location is to achieve a balance between three related objectives:\n",
    "\n",
    "- The costs of the operation\n",
    "- The customer service that the business wants to provide\n",
    "- The potential revenues that can be achieved from the location\n",
    "\n",
    "One of the most important factors that influence the choice of business location is the demand factor which mainly affect customer service and revenues. So in order to choose right we have to consider the following points:\n",
    "\n",
    "- Customer convenience\n",
    "\n",
    ">Probably the most important factor. Many businesses need to be located where customers find it quick, easy and cheap to access the service being provided. E.g. a fast-food outlet needs to be somewhere close to a strong customer footfall, not hidden away out of sight. Out-of-town retail parks are situated within a convenient short drive from major population centres.\n",
    "\n",
    "- Site suitability\n",
    "\n",
    ">A site may need to have some particular characteristics to maximise customer satisfaction and revenues. E.g. a luxury restaurant or hotel needs to be located somewhere that customers find attractive – not in the middle of a trading estate.\n",
    "\n",
    "- Image\n",
    "\n",
    ">This is more intangible, but often important. Some customers associate a product with a certain area and prefer to buy from there (e.g. walking equipment – a business based in the Lake District might enjoy a better perceived reputation)\n",
    "\n",
    "- Competition\n",
    "\n",
    "> The proximity to other competing businesses could be crucial to the business success. Could they provide a benefit to our business or cause a hindrance? Establishing which competitors are in the selected area and their offering could help guarantee to choose the right location for the business. If there is too much competition then it may be a warning sign to expand our horizons to a new location. There are exceptions to this such as car dealerships who want to be near each other as customers compare and choose the best car deal, hence their close proximity. Likewise, if we have an element in our offering that is unique or offers some kind of new innovation, then choosing an area that already has a ripe market could be the ideal way to pick up customers very quickly and establish a presence in a new area in a relatively short time frame.\n",
    "\n",
    "- Expansion potential\n",
    "\n",
    ">Future production capacity often has to be taken into account. A location might tick many other boxes, but if it provides limited scope for expansion then it might be rejected. If a location restricts output, then revenues are potentially damaged.  \n",
    "\n",
    "\n",
    "\n"
   ]
  }
 ],
 "metadata": {
  "kernelspec": {
   "display_name": "Python 3",
   "language": "python",
   "name": "python3"
  },
  "language_info": {
   "codemirror_mode": {
    "name": "ipython",
    "version": 3
   },
   "file_extension": ".py",
   "mimetype": "text/x-python",
   "name": "python",
   "nbconvert_exporter": "python",
   "pygments_lexer": "ipython3",
   "version": "3.8.2"
  }
 },
 "nbformat": 4,
 "nbformat_minor": 4
}
