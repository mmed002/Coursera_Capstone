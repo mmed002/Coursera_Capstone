{
 "cells": [
  {
   "cell_type": "markdown",
   "metadata": {},
   "source": [
    "### How data can be used to solve the problem"
   ]
  },
  {
   "cell_type": "markdown",
   "metadata": {},
   "source": [
    "There are 7.7 billion people in the world, with at least 3.5 billion of us online. This means social media platforms are used by one-in-three people in the world, and more than two-thirds of all internet users generating a huge amount of data, \n",
    "\n",
    "Social media has changed the world and businesses should use it in their favor. The rapid and vast adoption of these technologies is changing how we find partners, how we access information from the news, and how we organize to demand political change.\n",
    "\n",
    "Individuals increasingly use smartphones to access social media and use location-based services to tell their friends where they are and Businesses are reaching consumers in ways we’ve never seen before. More brands are measuring real world foot traffic patterns. They’re launching targeted mobile advertising campaigns. They’re even analyzing consumer movement patterns to make important business decisions and uncover new market insights. Behind the scenes, brand marketers are putting an incredible amount of trust in location data providers to give them the most accurate, up-to-date datasets possible.\n",
    "\n",
    "For new and established businesses alike, Geospatial Insights makes it easier to apply location data analysis to business intelligence. Location insights provide the keys to unlocking in-depth understanding of consumers’ behaviors and preferences. Monitor competitor performance, analyze site selection, learn about customer offline behavior and more.\n",
    "\n",
    "Location data providers power the vast majority of mobile targeting strategies that brand marketers implement today. One of the most well-known firms in the location data market is Foursquare, it now runs an independent location data and technology platform for marketers and developers. Using Foursquare’s location data, brands can quantify the impact of their media (using validated stops) and find new audiences that they can target with relevant advertising, Foursquare also offers a Places API and a Pilgrim SDK, which enable location discovery inside apps and websites, as well as real-time location detection.\n"
   ]
  },
  {
   "cell_type": "markdown",
   "metadata": {},
   "source": [
    "### Description of the project"
   ]
  },
  {
   "cell_type": "markdown",
   "metadata": {},
   "source": [
    "In this Notebook we are going to explore and compare the neighborhoods of Los Angeles and use this information in identifying the best location to open a gourmet restaurant. our goal in this project is to answer two main questions:\n",
    "\n",
    "1. What is the best location to Open a new restaurant?\n",
    "\n",
    "2. How can we market our products to the potential consumers?\n",
    "\n",
    "\n",
    "To do so we will use the neighborhoods names and their geospatial coordinates found in the downloaded csv file from https://usc.data.socrata.com/dataset/Los-Angeles-Neighborhood-Map/r8qd-yxsr . We'll also leverage the Foursquare API to explore neighborhoods in Los Angeles city. We will use the explore function to get the most common venue categories in each neighborhood, and then use this feature to group the neighborhoods into clusters using the k-means clustering algorithm which is one of the simplest unsupervised machine learning algorithms and is vastly used for clustering in many data science applications. Finally, we will use the Folium library to visualize the neighborhoods in LA and their emerging clusters.\n"
   ]
  }
 ],
 "metadata": {
  "kernelspec": {
   "display_name": "Python 3",
   "language": "python",
   "name": "python3"
  },
  "language_info": {
   "codemirror_mode": {
    "name": "ipython",
    "version": 3
   },
   "file_extension": ".py",
   "mimetype": "text/x-python",
   "name": "python",
   "nbconvert_exporter": "python",
   "pygments_lexer": "ipython3",
   "version": "3.8.2"
  }
 },
 "nbformat": 4,
 "nbformat_minor": 4
}
